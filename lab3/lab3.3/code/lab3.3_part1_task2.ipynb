{
 "cells": [
  {
   "cell_type": "code",
   "execution_count": 9,
   "id": "bf21c037-85f6-4a16-8b91-f902e7710079",
   "metadata": {},
   "outputs": [
    {
     "name": "stderr",
     "output_type": "stream",
     "text": [
      "/var/tmp/ipykernel_37494/1090494781.py:7: DeprecationWarning: numpy.core.numeric is deprecated and has been renamed to numpy._core.numeric. The numpy._core namespace contains private NumPy internals and its use is discouraged, as NumPy internals can change without warning in any release. In practice, most real-world usage of numpy.core is to access functionality in the public NumPy API. If that is the case, use the public NumPy API. If not, you are using NumPy internals. If you would still like to access an internal attribute, use numpy._core.numeric._frombuffer.\n",
      "  raw_text = pickle.load(f)\n"
     ]
    }
   ],
   "source": [
    "# Chunk 1: Load Raw Text and BERT Embeddings\n",
    "import pickle\n",
    "import numpy as np\n",
    "import os\n",
    "\n",
    "with open('/ocean/projects/mth240012p/shared/data/raw_text.pkl', 'rb') as f:\n",
    "    raw_text = pickle.load(f)\n",
    "\n",
    "embedding_dir = \"bert_embeddings_frozen_delayed\"\n",
    "story_names = list(raw_text.keys())\n",
    "delayed_embeddings = {s: np.load(f\"{embedding_dir}/{s}.npy\") for s in story_names}"
   ]
  },
  {
   "cell_type": "code",
   "execution_count": 10,
   "id": "42f3caf7-7352-4784-9afc-07b771adc223",
   "metadata": {},
   "outputs": [],
   "source": [
    "# Chunk 4: Prepare In-Memory Dataset for Fine-Tuning\n",
    "import torch\n",
    "from torch.utils.data import Dataset\n",
    "\n",
    "class InMemoryBERTfMRIDataset(Dataset):\n",
    "    def __init__(self, X_dict, raw_text, subject_dir):\n",
    "        self.data = []\n",
    "        for story, X in X_dict.items():\n",
    "            y_path = os.path.join(subject_dir, f\"{story}.npy\")\n",
    "            if not os.path.exists(y_path):\n",
    "                continue\n",
    "\n",
    "            Y = np.load(y_path)\n",
    "            if X.shape[0] != Y.shape[0]:\n",
    "                continue  # Skip misaligned\n",
    "\n",
    "            self.data.append((X.astype(np.float32), Y.astype(np.float32)))\n",
    "\n",
    "        print(f\"Loaded {len(self.data)} valid story pairs\")\n",
    "\n",
    "    def __len__(self):\n",
    "        return len(self.data)\n",
    "\n",
    "    def __getitem__(self, idx):\n",
    "        X, Y = self.data[idx]\n",
    "        return {\n",
    "            \"X\": torch.tensor(X),\n",
    "            \"Y\": torch.tensor(Y)\n",
    "        }\n"
   ]
  },
  {
   "cell_type": "code",
   "execution_count": 14,
   "id": "b8e1cb12-4ed5-40ac-a6bf-32d84a8e09b7",
   "metadata": {},
   "outputs": [
    {
     "name": "stdout",
     "output_type": "stream",
     "text": [
      "Loaded 101 valid story pairs\n"
     ]
    },
    {
     "name": "stderr",
     "output_type": "stream",
     "text": [
      " 20%|█▉        | 20/101 [00:01<00:05, 14.13it/s]"
     ]
    },
    {
     "name": "stdout",
     "output_type": "stream",
     "text": [
      "Skipping batch with NaNs/Infs in Y\n"
     ]
    },
    {
     "name": "stderr",
     "output_type": "stream",
     "text": [
      " 24%|██▍       | 24/101 [00:01<00:05, 14.60it/s]"
     ]
    },
    {
     "name": "stdout",
     "output_type": "stream",
     "text": [
      "Skipping batch with NaNs/Infs in Y\n"
     ]
    },
    {
     "name": "stderr",
     "output_type": "stream",
     "text": [
      "100%|██████████| 101/101 [00:07<00:00, 13.05it/s]\n"
     ]
    },
    {
     "name": "stdout",
     "output_type": "stream",
     "text": [
      "Epoch 1, Avg Loss: 0.9850\n"
     ]
    },
    {
     "name": "stderr",
     "output_type": "stream",
     "text": [
      " 57%|█████▋    | 58/101 [00:04<00:03, 12.43it/s]"
     ]
    },
    {
     "name": "stdout",
     "output_type": "stream",
     "text": [
      "Skipping batch with NaNs/Infs in Y\n"
     ]
    },
    {
     "name": "stderr",
     "output_type": "stream",
     "text": [
      " 69%|██████▉   | 70/101 [00:05<00:02, 14.27it/s]"
     ]
    },
    {
     "name": "stdout",
     "output_type": "stream",
     "text": [
      "Skipping batch with NaNs/Infs in Y\n"
     ]
    },
    {
     "name": "stderr",
     "output_type": "stream",
     "text": [
      "100%|██████████| 101/101 [00:07<00:00, 13.10it/s]\n"
     ]
    },
    {
     "name": "stdout",
     "output_type": "stream",
     "text": [
      "Epoch 2, Avg Loss: 0.9808\n"
     ]
    },
    {
     "name": "stderr",
     "output_type": "stream",
     "text": [
      " 28%|██▊       | 28/101 [00:02<00:05, 13.47it/s]"
     ]
    },
    {
     "name": "stdout",
     "output_type": "stream",
     "text": [
      "Skipping batch with NaNs/Infs in Y\n"
     ]
    },
    {
     "name": "stderr",
     "output_type": "stream",
     "text": [
      " 87%|████████▋ | 88/101 [00:06<00:00, 13.98it/s]"
     ]
    },
    {
     "name": "stdout",
     "output_type": "stream",
     "text": [
      "Skipping batch with NaNs/Infs in Y\n"
     ]
    },
    {
     "name": "stderr",
     "output_type": "stream",
     "text": [
      "100%|██████████| 101/101 [00:07<00:00, 13.16it/s]\n"
     ]
    },
    {
     "name": "stdout",
     "output_type": "stream",
     "text": [
      "Epoch 3, Avg Loss: 0.9822\n"
     ]
    },
    {
     "name": "stderr",
     "output_type": "stream",
     "text": [
      " 23%|██▎       | 23/101 [00:01<00:06, 12.91it/s]"
     ]
    },
    {
     "name": "stdout",
     "output_type": "stream",
     "text": [
      "Skipping batch with NaNs/Infs in Y\n"
     ]
    },
    {
     "name": "stderr",
     "output_type": "stream",
     "text": [
      " 96%|█████████▌| 97/101 [00:07<00:00, 14.08it/s]"
     ]
    },
    {
     "name": "stdout",
     "output_type": "stream",
     "text": [
      "Skipping batch with NaNs/Infs in Y\n"
     ]
    },
    {
     "name": "stderr",
     "output_type": "stream",
     "text": [
      "100%|██████████| 101/101 [00:07<00:00, 13.14it/s]\n"
     ]
    },
    {
     "name": "stdout",
     "output_type": "stream",
     "text": [
      "Epoch 4, Avg Loss: 0.9831\n"
     ]
    },
    {
     "name": "stderr",
     "output_type": "stream",
     "text": [
      " 79%|███████▉  | 80/101 [00:06<00:01, 15.05it/s]"
     ]
    },
    {
     "name": "stdout",
     "output_type": "stream",
     "text": [
      "Skipping batch with NaNs/Infs in Y\n",
      "Skipping batch with NaNs/Infs in Y\n"
     ]
    },
    {
     "name": "stderr",
     "output_type": "stream",
     "text": [
      "100%|██████████| 101/101 [00:07<00:00, 13.16it/s]\n"
     ]
    },
    {
     "name": "stdout",
     "output_type": "stream",
     "text": [
      "Epoch 5, Avg Loss: 0.9844\n"
     ]
    },
    {
     "name": "stderr",
     "output_type": "stream",
     "text": [
      " 62%|██████▏   | 63/101 [00:04<00:02, 13.78it/s]"
     ]
    },
    {
     "name": "stdout",
     "output_type": "stream",
     "text": [
      "Skipping batch with NaNs/Infs in Y\n"
     ]
    },
    {
     "name": "stderr",
     "output_type": "stream",
     "text": [
      " 70%|███████   | 71/101 [00:05<00:02, 13.14it/s]"
     ]
    },
    {
     "name": "stdout",
     "output_type": "stream",
     "text": [
      "Skipping batch with NaNs/Infs in Y\n"
     ]
    },
    {
     "name": "stderr",
     "output_type": "stream",
     "text": [
      "100%|██████████| 101/101 [00:07<00:00, 13.06it/s]\n"
     ]
    },
    {
     "name": "stdout",
     "output_type": "stream",
     "text": [
      "Epoch 6, Avg Loss: 0.9853\n"
     ]
    },
    {
     "name": "stderr",
     "output_type": "stream",
     "text": [
      " 64%|██████▍   | 65/101 [00:05<00:02, 12.75it/s]"
     ]
    },
    {
     "name": "stdout",
     "output_type": "stream",
     "text": [
      "Skipping batch with NaNs/Infs in Y\n"
     ]
    },
    {
     "name": "stderr",
     "output_type": "stream",
     "text": [
      " 80%|████████  | 81/101 [00:06<00:01, 14.86it/s]"
     ]
    },
    {
     "name": "stdout",
     "output_type": "stream",
     "text": [
      "Skipping batch with NaNs/Infs in Y\n"
     ]
    },
    {
     "name": "stderr",
     "output_type": "stream",
     "text": [
      "100%|██████████| 101/101 [00:07<00:00, 13.07it/s]\n"
     ]
    },
    {
     "name": "stdout",
     "output_type": "stream",
     "text": [
      "Epoch 7, Avg Loss: 0.9855\n"
     ]
    },
    {
     "name": "stderr",
     "output_type": "stream",
     "text": [
      " 54%|█████▍    | 55/101 [00:04<00:03, 13.88it/s]"
     ]
    },
    {
     "name": "stdout",
     "output_type": "stream",
     "text": [
      "Skipping batch with NaNs/Infs in Y\n"
     ]
    },
    {
     "name": "stderr",
     "output_type": "stream",
     "text": [
      " 88%|████████▊ | 89/101 [00:06<00:00, 13.28it/s]"
     ]
    },
    {
     "name": "stdout",
     "output_type": "stream",
     "text": [
      "Skipping batch with NaNs/Infs in Y\n"
     ]
    },
    {
     "name": "stderr",
     "output_type": "stream",
     "text": [
      "100%|██████████| 101/101 [00:07<00:00, 13.04it/s]\n"
     ]
    },
    {
     "name": "stdout",
     "output_type": "stream",
     "text": [
      "Epoch 8, Avg Loss: 0.9856\n"
     ]
    },
    {
     "name": "stderr",
     "output_type": "stream",
     "text": [
      " 36%|███▌      | 36/101 [00:02<00:05, 11.90it/s]"
     ]
    },
    {
     "name": "stdout",
     "output_type": "stream",
     "text": [
      "Skipping batch with NaNs/Infs in Y\n"
     ]
    },
    {
     "name": "stderr",
     "output_type": "stream",
     "text": [
      " 69%|██████▉   | 70/101 [00:05<00:02, 14.14it/s]"
     ]
    },
    {
     "name": "stdout",
     "output_type": "stream",
     "text": [
      "Skipping batch with NaNs/Infs in Y\n"
     ]
    },
    {
     "name": "stderr",
     "output_type": "stream",
     "text": [
      "100%|██████████| 101/101 [00:07<00:00, 13.10it/s]\n"
     ]
    },
    {
     "name": "stdout",
     "output_type": "stream",
     "text": [
      "Epoch 9, Avg Loss: 0.9837\n"
     ]
    },
    {
     "name": "stderr",
     "output_type": "stream",
     "text": [
      " 65%|██████▌   | 66/101 [00:05<00:02, 14.20it/s]"
     ]
    },
    {
     "name": "stdout",
     "output_type": "stream",
     "text": [
      "Skipping batch with NaNs/Infs in Y\n"
     ]
    },
    {
     "name": "stderr",
     "output_type": "stream",
     "text": [
      " 93%|█████████▎| 94/101 [00:07<00:00, 13.45it/s]"
     ]
    },
    {
     "name": "stdout",
     "output_type": "stream",
     "text": [
      "Skipping batch with NaNs/Infs in Y\n"
     ]
    },
    {
     "name": "stderr",
     "output_type": "stream",
     "text": [
      "100%|██████████| 101/101 [00:07<00:00, 13.11it/s]"
     ]
    },
    {
     "name": "stdout",
     "output_type": "stream",
     "text": [
      "Epoch 10, Avg Loss: 0.9818\n"
     ]
    },
    {
     "name": "stderr",
     "output_type": "stream",
     "text": [
      "\n"
     ]
    }
   ],
   "source": [
    "# Chunk 5: Fine-Tune BERT for fMRI Voxel Prediction Using In-Memory Data\n",
    "import torch\n",
    "import torch.nn as nn\n",
    "from torch.utils.data import DataLoader\n",
    "from tqdm import tqdm\n",
    "\n",
    "# Simple linear model to predict voxel activity from embeddings\n",
    "class BERTToVoxels(nn.Module):\n",
    "    def __init__(self, input_dim=3072, output_dim=94251):\n",
    "        super().__init__()\n",
    "        self.model = nn.Sequential(\n",
    "            nn.Linear(input_dim, 1024),\n",
    "            nn.ReLU(),\n",
    "            nn.Linear(1024, output_dim)\n",
    "        )\n",
    "\n",
    "    def forward(self, x):  # x: [T, input_dim]\n",
    "        return self.model(x)  # [T, output_dim]\n",
    "\n",
    "# Initialize model and optimizer\n",
    "device = torch.device(\"cuda\" if torch.cuda.is_available() else \"cpu\")\n",
    "model = BERTToVoxels(input_dim=3072, output_dim=94251).to(device)\n",
    "optimizer = torch.optim.Adam(model.parameters(), lr=1e-3)\n",
    "criterion = nn.MSELoss()\n",
    "\n",
    "# Load data into DataLoader\n",
    "subject2_dir = \"/ocean/projects/mth240012p/shared/data/subject2\"\n",
    "train_dataset = InMemoryBERTfMRIDataset(delayed_embeddings, raw_text, subject2_dir)\n",
    "train_loader = DataLoader(train_dataset, batch_size=1, shuffle=True)\n",
    "\n",
    "# Training loop\n",
    "n_epochs = 10\n",
    "\n",
    "for epoch in range(n_epochs):\n",
    "    model.train()\n",
    "    total_loss = 0.0\n",
    "\n",
    "    for batch in tqdm(train_loader):\n",
    "        X = batch[\"X\"].squeeze(0).to(device)  # [T, 3072]\n",
    "        Y = batch[\"Y\"].squeeze(0).to(device)  # [T, 94251]\n",
    "\n",
    "        # Check for NaNs/Infs\n",
    "        if torch.isnan(Y).any() or torch.isinf(Y).any():\n",
    "            print(f\"Skipping batch with NaNs/Infs in Y\")\n",
    "            continue\n",
    "\n",
    "        # Normalize inputs and targets\n",
    "        X = (X - X.mean(dim=0)) / (X.std(dim=0) + 1e-8)\n",
    "        Y = (Y - Y.mean(dim=0)) / (Y.std(dim=0) + 1e-8)\n",
    "\n",
    "        optimizer.zero_grad()\n",
    "        preds = model(X)  # [T, 94251]\n",
    "        loss = criterion(preds, Y)\n",
    "        loss.backward()\n",
    "\n",
    "        torch.nn.utils.clip_grad_norm_(model.parameters(), max_norm=1.0)\n",
    "        optimizer.step()\n",
    "\n",
    "        total_loss += loss.item()\n",
    "\n",
    "    avg_loss = total_loss / len(train_loader)\n",
    "    print(f\"Epoch {epoch+1}, Avg Loss: {avg_loss:.4f}\")\n",
    "\n"
   ]
  },
  {
   "cell_type": "code",
   "execution_count": 15,
   "id": "38648d00-afcb-472d-a390-fc21efc3da84",
   "metadata": {},
   "outputs": [
    {
     "name": "stdout",
     "output_type": "stream",
     "text": [
      "Loaded 20 valid story pairs\n"
     ]
    },
    {
     "name": "stderr",
     "output_type": "stream",
     "text": [
      " 85%|████████▌ | 17/20 [04:58<00:52, 17.49s/it]"
     ]
    },
    {
     "name": "stdout",
     "output_type": "stream",
     "text": [
      "Skipping test batch with NaNs/Infs\n"
     ]
    },
    {
     "name": "stderr",
     "output_type": "stream",
     "text": [
      "100%|██████████| 20/20 [05:34<00:00, 16.70s/it]"
     ]
    },
    {
     "name": "stdout",
     "output_type": "stream",
     "text": [
      "\n",
      "Evaluation — BERT Fine-Tuned Model (subject2):\n",
      "Mean CC:   0.0239\n",
      "Median CC: 0.0227\n",
      "Top 1% CC: 0.0850\n",
      "Top 5% CC: 0.0594\n"
     ]
    },
    {
     "name": "stderr",
     "output_type": "stream",
     "text": [
      "\n"
     ]
    },
    {
     "data": {
      "image/png": "[encoded data removed]",
      "text/plain": [
       "<Figure size 600x400 with 1 Axes>"
      ]
     },
     "metadata": {},
     "output_type": "display_data"
    }
   ],
   "source": [
    "# Chunk 6:  Evaluate + Plot Voxel-Wise CCs for Subject 2\n",
    "import scipy.stats as stats\n",
    "import matplotlib.pyplot as plt\n",
    "\n",
    "# Split stories into train/test sets (80/20 split)\n",
    "story_names = list(delayed_embeddings.keys())\n",
    "n_train = int(0.8 * len(story_names))\n",
    "train_stories = story_names[:n_train]\n",
    "test_stories = story_names[n_train:]\n",
    "\n",
    "# Build test dataset\n",
    "test_dataset = InMemoryBERTfMRIDataset(\n",
    "    {k: delayed_embeddings[k] for k in test_stories},\n",
    "    raw_text,\n",
    "    subject2_dir\n",
    ")\n",
    "\n",
    "test_loader = DataLoader(test_dataset, batch_size=1, shuffle=False)\n",
    "\n",
    "# Evaluate\n",
    "model.eval()\n",
    "all_corrs = []\n",
    "\n",
    "with torch.no_grad():\n",
    "    for batch in tqdm(test_loader):\n",
    "        X = batch[\"X\"].squeeze(0).to(device)\n",
    "        Y = batch[\"Y\"].squeeze(0).to(device)\n",
    "\n",
    "        if torch.isnan(Y).any() or torch.isinf(Y).any():\n",
    "            print(\"Skipping test batch with NaNs/Infs\")\n",
    "            continue\n",
    "\n",
    "        preds = model(X)\n",
    "        preds = preds.cpu().numpy()\n",
    "        targets = Y.cpu().numpy()\n",
    "\n",
    "        # Compute voxel-wise Pearson correlation\n",
    "        corr = np.array([\n",
    "            stats.pearsonr(preds[:, v], targets[:, v])[0]\n",
    "            for v in range(targets.shape[1])\n",
    "        ])\n",
    "\n",
    "        all_corrs.append(corr)\n",
    "\n",
    "# Stack and average\n",
    "all_corrs = np.stack(all_corrs)\n",
    "voxel_corrs = np.nanmean(all_corrs, axis=0)  # mean across test stories\n",
    "\n",
    "# Print summary\n",
    "print(f\"\\nEvaluation — BERT Fine-Tuned Model (subject2):\")\n",
    "print(f\"Mean CC:   {np.mean(voxel_corrs):.4f}\")\n",
    "print(f\"Median CC: {np.median(voxel_corrs):.4f}\")\n",
    "print(f\"Top 1% CC: {np.percentile(voxel_corrs, 99):.4f}\")\n",
    "print(f\"Top 5% CC: {np.percentile(voxel_corrs, 95):.4f}\")\n",
    "\n",
    "# Plot histogram of voxel-wise correlations\n",
    "plt.figure(figsize=(6, 4))\n",
    "plt.hist(voxel_corrs, bins=50, color=\"mediumseagreen\", edgecolor=\"black\")\n",
    "plt.title(\"Voxel-wise Correlation Coefficients (Fine-Tuned BERT — subject2)\")\n",
    "plt.xlabel(\"Correlation Coefficient (CC)\")\n",
    "plt.ylabel(\"Voxel Count\")\n",
    "plt.grid(True, linestyle=\"--\", alpha=0.5)\n",
    "plt.tight_layout()\n",
    "plt.show()\n"
   ]
  },
  {
   "cell_type": "code",
   "execution_count": 17,
   "id": "12096c3b-fab8-403e-a818-7afc0f4f8c24",
   "metadata": {},
   "outputs": [
    {
     "name": "stdout",
     "output_type": "stream",
     "text": [
      "Loaded 81 valid story pairs\n"
     ]
    },
    {
     "name": "stderr",
     "output_type": "stream",
     "text": [
      "100%|██████████| 81/81 [00:06<00:00, 12.58it/s]\n"
     ]
    },
    {
     "name": "stdout",
     "output_type": "stream",
     "text": [
      "Epoch 1, Avg Loss: 1.0058\n"
     ]
    },
    {
     "name": "stderr",
     "output_type": "stream",
     "text": [
      "100%|██████████| 81/81 [00:06<00:00, 12.59it/s]\n"
     ]
    },
    {
     "name": "stdout",
     "output_type": "stream",
     "text": [
      "Epoch 2, Avg Loss: 1.0014\n"
     ]
    },
    {
     "name": "stderr",
     "output_type": "stream",
     "text": [
      "100%|██████████| 81/81 [00:06<00:00, 12.63it/s]\n"
     ]
    },
    {
     "name": "stdout",
     "output_type": "stream",
     "text": [
      "Epoch 3, Avg Loss: 1.0016\n"
     ]
    },
    {
     "name": "stderr",
     "output_type": "stream",
     "text": [
      "100%|██████████| 81/81 [00:06<00:00, 12.56it/s]\n"
     ]
    },
    {
     "name": "stdout",
     "output_type": "stream",
     "text": [
      "Epoch 4, Avg Loss: 1.0014\n"
     ]
    },
    {
     "name": "stderr",
     "output_type": "stream",
     "text": [
      "100%|██████████| 81/81 [00:06<00:00, 12.54it/s]\n"
     ]
    },
    {
     "name": "stdout",
     "output_type": "stream",
     "text": [
      "Epoch 5, Avg Loss: 1.0018\n"
     ]
    },
    {
     "name": "stderr",
     "output_type": "stream",
     "text": [
      "100%|██████████| 81/81 [00:06<00:00, 12.67it/s]\n"
     ]
    },
    {
     "name": "stdout",
     "output_type": "stream",
     "text": [
      "Epoch 6, Avg Loss: 1.0032\n"
     ]
    },
    {
     "name": "stderr",
     "output_type": "stream",
     "text": [
      "100%|██████████| 81/81 [00:06<00:00, 12.67it/s]\n"
     ]
    },
    {
     "name": "stdout",
     "output_type": "stream",
     "text": [
      "Epoch 7, Avg Loss: 1.0037\n"
     ]
    },
    {
     "name": "stderr",
     "output_type": "stream",
     "text": [
      "100%|██████████| 81/81 [00:06<00:00, 12.68it/s]\n"
     ]
    },
    {
     "name": "stdout",
     "output_type": "stream",
     "text": [
      "Epoch 8, Avg Loss: 1.0051\n"
     ]
    },
    {
     "name": "stderr",
     "output_type": "stream",
     "text": [
      "100%|██████████| 81/81 [00:06<00:00, 12.62it/s]\n"
     ]
    },
    {
     "name": "stdout",
     "output_type": "stream",
     "text": [
      "Epoch 9, Avg Loss: 1.0052\n"
     ]
    },
    {
     "name": "stderr",
     "output_type": "stream",
     "text": [
      "100%|██████████| 81/81 [00:06<00:00, 12.58it/s]\n"
     ]
    },
    {
     "name": "stdout",
     "output_type": "stream",
     "text": [
      "Epoch 10, Avg Loss: 1.0044\n",
      "Loaded 20 valid story pairs\n"
     ]
    },
    {
     "name": "stderr",
     "output_type": "stream",
     "text": [
      "  0%|          | 0/20 [00:00<?, ?it/s]/var/tmp/ipykernel_37494/2406320431.py:101: NearConstantInputWarning: An input array is nearly constant; the computed correlation coefficient may be inaccurate.\n",
      "  stats.pearsonr(preds[:, v], targets[:, v])[0]\n",
      " 45%|████▌     | 9/20 [02:38<03:13, 17.58s/it]/var/tmp/ipykernel_37494/2406320431.py:101: ConstantInputWarning: An input array is constant; the correlation coefficient is not defined.\n",
      "  stats.pearsonr(preds[:, v], targets[:, v])[0]\n",
      "100%|██████████| 20/20 [05:55<00:00, 17.77s/it]"
     ]
    },
    {
     "name": "stdout",
     "output_type": "stream",
     "text": [
      "\n",
      "Evaluation — BERT Fine-Tuned Model (subject3):\n",
      "Mean CC:   0.0180\n",
      "Median CC: 0.0169\n",
      "Top 1% CC: 0.0779\n",
      "Top 5% CC: 0.0493\n"
     ]
    },
    {
     "name": "stderr",
     "output_type": "stream",
     "text": [
      "\n"
     ]
    },
    {
     "data": {
      "image/png": "[encoded data removed]",
      "text/plain": [
       "<Figure size 600x400 with 1 Axes>"
      ]
     },
     "metadata": {},
     "output_type": "display_data"
    }
   ],
   "source": [
    "# Chunk 7: Fine-Tune and Evaluate BERT on Subject 3\n",
    "import os\n",
    "import torch\n",
    "import torch.nn as nn\n",
    "import numpy as np\n",
    "import scipy.stats as stats\n",
    "import matplotlib.pyplot as plt\n",
    "from torch.utils.data import DataLoader\n",
    "from tqdm import tqdm\n",
    "\n",
    "# Model\n",
    "class BERTToVoxels(nn.Module):\n",
    "    def __init__(self, input_dim=3072, output_dim=95556):\n",
    "        super().__init__()\n",
    "        self.model = nn.Sequential(\n",
    "            nn.Linear(input_dim, 1024),\n",
    "            nn.ReLU(),\n",
    "            nn.Linear(1024, output_dim)\n",
    "        )\n",
    "\n",
    "    def forward(self, x):  # [T, input_dim]\n",
    "        return self.model(x)  # [T, output_dim]\n",
    "\n",
    "# Setup\n",
    "device = torch.device(\"cuda\" if torch.cuda.is_available() else \"cpu\")\n",
    "subject3_dir = \"/ocean/projects/mth240012p/shared/data/subject3\"\n",
    "output_dim = 95556  # based on subject3 voxel count\n",
    "\n",
    "model = BERTToVoxels(input_dim=3072, output_dim=output_dim).to(device)\n",
    "optimizer = torch.optim.Adam(model.parameters(), lr=1e-3)\n",
    "criterion = nn.MSELoss()\n",
    "\n",
    "# DataLoader (Train)\n",
    "story_names = list(delayed_embeddings.keys())\n",
    "n_train = int(0.8 * len(story_names))\n",
    "train_stories = story_names[:n_train]\n",
    "\n",
    "train_dataset = InMemoryBERTfMRIDataset(\n",
    "    {k: delayed_embeddings[k] for k in train_stories},\n",
    "    raw_text,\n",
    "    subject3_dir\n",
    ")\n",
    "train_loader = DataLoader(train_dataset, batch_size=1, shuffle=True)\n",
    "\n",
    "# Training\n",
    "n_epochs = 10\n",
    "for epoch in range(n_epochs):\n",
    "    model.train()\n",
    "    total_loss = 0.0\n",
    "\n",
    "    for batch in tqdm(train_loader):\n",
    "        X = batch[\"X\"].squeeze(0).to(device)\n",
    "        Y = batch[\"Y\"].squeeze(0).to(device)\n",
    "\n",
    "        if torch.isnan(Y).any() or torch.isinf(Y).any():\n",
    "            print(\"Skipping batch with NaNs/Infs in Y\")\n",
    "            continue\n",
    "\n",
    "        X = (X - X.mean(dim=0)) / (X.std(dim=0) + 1e-8)\n",
    "        Y = (Y - Y.mean(dim=0)) / (Y.std(dim=0) + 1e-8)\n",
    "\n",
    "        optimizer.zero_grad()\n",
    "        preds = model(X)\n",
    "        loss = criterion(preds, Y)\n",
    "        loss.backward()\n",
    "        torch.nn.utils.clip_grad_norm_(model.parameters(), max_norm=1.0)\n",
    "        optimizer.step()\n",
    "\n",
    "        total_loss += loss.item()\n",
    "\n",
    "    avg_loss = total_loss / len(train_loader)\n",
    "    print(f\"Epoch {epoch+1}, Avg Loss: {avg_loss:.4f}\")\n",
    "\n",
    "# DataLoader (Eval)\n",
    "test_stories = story_names[n_train:]\n",
    "test_dataset = InMemoryBERTfMRIDataset(\n",
    "    {k: delayed_embeddings[k] for k in test_stories},\n",
    "    raw_text,\n",
    "    subject3_dir\n",
    ")\n",
    "test_loader = DataLoader(test_dataset, batch_size=1, shuffle=False)\n",
    "\n",
    "# Evaluation\n",
    "model.eval()\n",
    "all_corrs = []\n",
    "\n",
    "with torch.no_grad():\n",
    "    for batch in tqdm(test_loader):\n",
    "        X = batch[\"X\"].squeeze(0).to(device)\n",
    "        Y = batch[\"Y\"].squeeze(0).to(device)\n",
    "\n",
    "        if torch.isnan(Y).any() or torch.isinf(Y).any():\n",
    "            print(\"Skipping test batch with NaNs/Infs\")\n",
    "            continue\n",
    "\n",
    "        preds = model(X)\n",
    "        preds = preds.cpu().numpy()\n",
    "        targets = Y.cpu().numpy()\n",
    "\n",
    "        corr = np.array([\n",
    "            stats.pearsonr(preds[:, v], targets[:, v])[0]\n",
    "            for v in range(targets.shape[1])\n",
    "        ])\n",
    "        all_corrs.append(corr)\n",
    "\n",
    "# Summary and Plot\n",
    "all_corrs = np.stack(all_corrs)\n",
    "voxel_corrs = np.nanmean(all_corrs, axis=0)\n",
    "\n",
    "print(f\"\\nEvaluation — BERT Fine-Tuned Model (subject3):\")\n",
    "print(f\"Mean CC:   {np.mean(voxel_corrs):.4f}\")\n",
    "print(f\"Median CC: {np.median(voxel_corrs):.4f}\")\n",
    "print(f\"Top 1% CC: {np.percentile(voxel_corrs, 99):.4f}\")\n",
    "print(f\"Top 5% CC: {np.percentile(voxel_corrs, 95):.4f}\")\n",
    "\n",
    "plt.figure(figsize=(6, 4))\n",
    "plt.hist(voxel_corrs, bins=50, color=\"slateblue\", edgecolor=\"black\")\n",
    "plt.title(\"Voxel-wise Correlation Coefficients (Fine-Tuned BERT — subject3)\")\n",
    "plt.xlabel(\"Correlation Coefficient (CC)\")\n",
    "plt.ylabel(\"Voxel Count\")\n",
    "plt.grid(True, linestyle=\"--\", alpha=0.5)\n",
    "plt.tight_layout()\n",
    "plt.show()\n"
   ]
  },
  {
   "cell_type": "code",
   "execution_count": null,
   "id": "48f8058f-91a3-4ad1-8adf-5cdab269adf9",
   "metadata": {},
   "outputs": [],
   "source": []
  }
 ],
 "metadata": {
  "kernelspec": {
   "display_name": "env_214",
   "language": "python",
   "name": "env_214"
  },
  "language_info": {
   "codemirror_mode": {
    "name": "ipython",
    "version": 3
   },
   "file_extension": ".py",
   "mimetype": "text/x-python",
   "name": "python",
   "nbconvert_exporter": "python",
   "pygments_lexer": "ipython3",
   "version": "3.13.2"
  }
 },
 "nbformat": 4,
 "nbformat_minor": 5
}
