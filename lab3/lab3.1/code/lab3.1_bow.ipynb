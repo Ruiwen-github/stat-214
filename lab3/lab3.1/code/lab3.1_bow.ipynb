{
 "cells": [
  {
   "cell_type": "code",
   "execution_count": 22,
   "metadata": {},
   "outputs": [],
   "source": [
    "import os\n",
    "os.chdir('../data')"
   ]
  },
  {
   "cell_type": "code",
   "execution_count": 23,
   "metadata": {},
   "outputs": [],
   "source": [
    "import pickle\n",
    "\n",
    "with open('raw_text.pkl', 'rb') as file:\n",
    "    data = pickle.load(file)"
   ]
  },
  {
   "cell_type": "code",
   "execution_count": 24,
   "metadata": {},
   "outputs": [
    {
     "name": "stdout",
     "output_type": "stream",
     "text": [
      "dict_keys(['sweetaspie', 'thatthingonmyarm', 'tildeath', 'indianapolis', 'lawsthatchokecreativity', 'golfclubbing', 'jugglingandjesus', 'shoppinginchina', 'cocoonoflove', 'hangtime', 'beneaththemushroomcloud', 'dialogue4', 'thepostmanalwayscalls', 'stumblinginthedark', 'kiksuya', 'haveyoumethimyet', 'theinterview', 'againstthewind', 'tetris', 'canplanetearthfeedtenbillionpeoplepart2', 'alternateithicatom', 'goldiethegoldfish', 'seedpotatoesofleningrad', 'onapproachtopluto', 'canplanetearthfeedtenbillionpeoplepart1', 'bluehope', 'superheroesjustforeachother', 'howtodraw', 'myfirstdaywiththeyankees', 'thumbsup', 'avatar', 'mayorofthefreaks', 'gangstersandcookies', 'breakingupintheageofgoogle', 'forgettingfear', 'waitingtogo', 'firetestforlove', 'goingthelibertyway', 'thefreedomridersandme', 'exorcism', 'itsabox', 'inamoment', 'afearstrippedbare', 'swimmingwithastronauts', 'ifthishaircouldtalk', 'whenmothersbullyback', 'vixenandtheussr', 'adollshouse', 'catfishingstrangerstofindmyself', 'dialogue2', 'theshower', 'igrewupinthewestborobaptistchurch', 'thesurprisingthingilearnedsailingsoloaroundtheworld', 'odetostepfather', 'threemonths', 'theclosetthatateeverything', 'souls', 'reachingoutbetweenthebars', 'fromboyhoodtofatherhood', 'naked', 'treasureisland', 'penpal', 'gpsformylostidentity', 'adventuresinsayingyes', 'dialogue1', 'theadvancedbeginner', 'singlewomanseekingmanwich', 'dialogue5', 'undertheinfluence', 'leavingbaghdad', 'thetriangleshirtwaistconnection', 'lifeanddeathontheoregontrail', 'onlyonewaytofindout', 'comingofageondeathrow', 'legacy', 'canadageeseandddp', 'cautioneating', 'listo', 'thesecrettomarriage', 'googlingstrangersandkentuckybluegrass', 'christmas1940', 'birthofanation', 'quietfire', 'becomingindian', 'escapingfromadirediagnosis', 'wheretheressmoke', 'whyimustspeakoutaboutclimatechange', 'metsmagic', 'learninghumanityfromdogs', 'myfathershands', 'thecurse', 'findingmyownrescuer', 'food', 'eyespy', 'thetiniestbouquet', 'buck', 'wildwomenanddancingqueens', 'stagefright', 'afatherscover', 'marryamanwholoveshismother', 'backsideofthestorm', 'dialogue3', 'lifereimagined', 'dialogue6', 'mybackseatviewofagreatromance', 'notontheusualtour', 'canplanetearthfeedtenbillionpeoplepart3', 'life', 'sloth'])\n"
     ]
    }
   ],
   "source": [
    "print(data.keys())"
   ]
  },
  {
   "cell_type": "code",
   "execution_count": 25,
   "metadata": {},
   "outputs": [],
   "source": [
    "import random\n",
    "random.seed(42)\n",
    "keys = list(data.keys())\n",
    "random.shuffle(keys)\n",
    "train_keys = keys[:80]\n",
    "test_keys = keys[80:]\n",
    "train_data = {key: data[key] for key in train_keys}\n",
    "test_data = {key: data[key] for key in test_keys}"
   ]
  },
  {
   "cell_type": "code",
   "execution_count": 26,
   "metadata": {},
   "outputs": [],
   "source": [
    "train_texts = []\n",
    "train_story_names = []\n",
    "test_texts = []\n",
    "test_story_names = []\n",
    "\n",
    "for name, sequence in train_data.items():\n",
    "    try:\n",
    "        text = sequence.data\n",
    "        text = ' '.join(text)\n",
    "        train_texts.append(text)\n",
    "        train_story_names.append(name)\n",
    "    except Exception as e:\n",
    "        print(f\"Could not extract text for {name}: {e}\")\n",
    "\n",
    "for name, sequence in test_data.items():\n",
    "    try:\n",
    "        text = sequence.data\n",
    "        text = ' '.join(text)\n",
    "        test_texts.append(text)\n",
    "        test_story_names.append(name)\n",
    "    except Exception as e:\n",
    "        print(f\"Could not extract text for {name}: {e}\")"
   ]
  },
  {
   "cell_type": "code",
   "execution_count": 32,
   "metadata": {},
   "outputs": [
    {
     "name": "stdout",
     "output_type": "stream",
     "text": [
      "Vocabulary size: 1532\n"
     ]
    }
   ],
   "source": [
    "from sklearn.feature_extraction.text import CountVectorizer\n",
    "vectorizer = CountVectorizer(stop_words='english', min_df=5)\n",
    "vectorizer.fit(train_texts)\n",
    "print(f\"Vocabulary size: {len(vectorizer.get_feature_names_out())}\")"
   ]
  },
  {
   "cell_type": "code",
   "execution_count": 33,
   "metadata": {},
   "outputs": [
    {
     "name": "stdout",
     "output_type": "stream",
     "text": [
      "penpal: BoW shape = (1592, 1532)\n",
      "hangtime: BoW shape = (1927, 1532)\n",
      "thatthingonmyarm: BoW shape = (2073, 1532)\n",
      "theshower: BoW shape = (1383, 1532)\n",
      "dialogue6: BoW shape = (1986, 1532)\n",
      "haveyoumethimyet: BoW shape = (2985, 1532)\n",
      "souls: BoW shape = (1868, 1532)\n",
      "undertheinfluence: BoW shape = (1641, 1532)\n",
      "cautioneating: BoW shape = (1587, 1532)\n",
      "superheroesjustforeachother: BoW shape = (1440, 1532)\n",
      "wheretheressmoke: BoW shape = (1839, 1532)\n",
      "thetriangleshirtwaistconnection: BoW shape = (1448, 1532)\n",
      "avatar: BoW shape = (1469, 1532)\n",
      "gangstersandcookies: BoW shape = (1547, 1532)\n",
      "adventuresinsayingyes: BoW shape = (2309, 1532)\n",
      "fromboyhoodtofatherhood: BoW shape = (2755, 1532)\n",
      "gpsformylostidentity: BoW shape = (1650, 1532)\n",
      "becomingindian: BoW shape = (2619, 1532)\n",
      "theclosetthatateeverything: BoW shape = (1928, 1532)\n",
      "thesurprisingthingilearnedsailingsoloaroundtheworld: BoW shape = (2855, 1532)\n",
      "dialogue2: BoW shape = (1835, 1532)\n",
      "adollshouse: BoW shape = (1656, 1532)\n",
      "escapingfromadirediagnosis: BoW shape = (1423, 1532)\n",
      "quietfire: BoW shape = (1905, 1532)\n",
      "thesecrettomarriage: BoW shape = (1486, 1532)\n",
      "christmas1940: BoW shape = (1261, 1532)\n",
      "seedpotatoesofleningrad: BoW shape = (1376, 1532)\n",
      "cocoonoflove: BoW shape = (1984, 1532)\n",
      "goldiethegoldfish: BoW shape = (1680, 1532)\n",
      "goingthelibertyway: BoW shape = (2471, 1532)\n",
      "dialogue5: BoW shape = (1765, 1532)\n",
      "breakingupintheageofgoogle: BoW shape = (3476, 1532)\n",
      "beneaththemushroomcloud: BoW shape = (1916, 1532)\n",
      "singlewomanseekingmanwich: BoW shape = (1486, 1532)\n",
      "googlingstrangersandkentuckybluegrass: BoW shape = (2547, 1532)\n",
      "dialogue3: BoW shape = (2013, 1532)\n",
      "legacy: BoW shape = (1893, 1532)\n",
      "jugglingandjesus: BoW shape = (887, 1532)\n",
      "inamoment: BoW shape = (966, 1532)\n",
      "sloth: BoW shape = (2403, 1532)\n",
      "treasureisland: BoW shape = (1763, 1532)\n",
      "life: BoW shape = (2209, 1532)\n",
      "afearstrippedbare: BoW shape = (1763, 1532)\n",
      "naked: BoW shape = (3218, 1532)\n",
      "food: BoW shape = (2064, 1532)\n",
      "metsmagic: BoW shape = (1477, 1532)\n",
      "theadvancedbeginner: BoW shape = (1624, 1532)\n",
      "firetestforlove: BoW shape = (2286, 1532)\n",
      "onapproachtopluto: BoW shape = (1357, 1532)\n",
      "exorcism: BoW shape = (2949, 1532)\n",
      "itsabox: BoW shape = (1708, 1532)\n",
      "tetris: BoW shape = (1350, 1532)\n",
      "onlyonewaytofindout: BoW shape = (1889, 1532)\n",
      "golfclubbing: BoW shape = (1211, 1532)\n",
      "canplanetearthfeedtenbillionpeoplepart1: BoW shape = (2341, 1532)\n",
      "shoppinginchina: BoW shape = (1731, 1532)\n",
      "forgettingfear: BoW shape = (1240, 1532)\n",
      "learninghumanityfromdogs: BoW shape = (1484, 1532)\n",
      "vixenandtheussr: BoW shape = (2074, 1532)\n",
      "tildeath: BoW shape = (2297, 1532)\n",
      "igrewupinthewestborobaptistchurch: BoW shape = (2449, 1532)\n",
      "theinterview: BoW shape = (1079, 1532)\n",
      "thefreedomridersandme: BoW shape = (1606, 1532)\n",
      "ifthishaircouldtalk: BoW shape = (1854, 1532)\n",
      "whenmothersbullyback: BoW shape = (1488, 1532)\n",
      "thepostmanalwayscalls: BoW shape = (2220, 1532)\n",
      "catfishingstrangerstofindmyself: BoW shape = (1522, 1532)\n",
      "thecurse: BoW shape = (2054, 1532)\n",
      "marryamanwholoveshismother: BoW shape = (1532, 1532)\n",
      "comingofageondeathrow: BoW shape = (2212, 1532)\n",
      "myfathershands: BoW shape = (942, 1532)\n",
      "canplanetearthfeedtenbillionpeoplepart2: BoW shape = (2532, 1532)\n",
      "afatherscover: BoW shape = (1182, 1532)\n",
      "swimmingwithastronauts: BoW shape = (2127, 1532)\n",
      "eyespy: BoW shape = (2336, 1532)\n",
      "alternateithicatom: BoW shape = (2174, 1532)\n",
      "sweetaspie: BoW shape = (697, 1532)\n",
      "mybackseatviewofagreatromance: BoW shape = (1794, 1532)\n",
      "stagefright: BoW shape = (2067, 1532)\n",
      "reachingoutbetweenthebars: BoW shape = (1490, 1532)\n"
     ]
    }
   ],
   "source": [
    "train_word_level_bow_vectors = {}\n",
    "for name, sequence in train_data.items():\n",
    "    try:\n",
    "        words = sequence.data\n",
    "        bow_matrix = vectorizer.transform(words).toarray()  # shape = (num_words, vocab_size)\n",
    "        train_word_level_bow_vectors[name] = bow_matrix\n",
    "        print(f\"{name}: BoW shape = {bow_matrix.shape}\")\n",
    "    except Exception as e:\n",
    "        print(f\"Skipping {name} due to error: {e}\")"
   ]
  },
  {
   "cell_type": "code",
   "execution_count": 34,
   "metadata": {},
   "outputs": [
    {
     "name": "stdout",
     "output_type": "stream",
     "text": [
      "lifereimagined: BoW shape = (1800, 1532)\n",
      "odetostepfather: BoW shape = (2675, 1532)\n",
      "wildwomenanddancingqueens: BoW shape = (1218, 1532)\n",
      "bluehope: BoW shape = (1941, 1532)\n",
      "lifeanddeathontheoregontrail: BoW shape = (2389, 1532)\n",
      "findingmyownrescuer: BoW shape = (1498, 1532)\n",
      "listo: BoW shape = (2371, 1532)\n",
      "dialogue1: BoW shape = (934, 1532)\n",
      "thumbsup: BoW shape = (3083, 1532)\n",
      "howtodraw: BoW shape = (1964, 1532)\n",
      "buck: BoW shape = (1677, 1532)\n",
      "canplanetearthfeedtenbillionpeoplepart3: BoW shape = (2066, 1532)\n",
      "lawsthatchokecreativity: BoW shape = (2084, 1532)\n",
      "threemonths: BoW shape = (2062, 1532)\n",
      "canadageeseandddp: BoW shape = (2559, 1532)\n",
      "dialogue4: BoW shape = (1692, 1532)\n",
      "leavingbaghdad: BoW shape = (1976, 1532)\n",
      "backsideofthestorm: BoW shape = (1964, 1532)\n",
      "whyimustspeakoutaboutclimatechange: BoW shape = (2336, 1532)\n",
      "stumblinginthedark: BoW shape = (2681, 1532)\n",
      "notontheusualtour: BoW shape = (1431, 1532)\n",
      "againstthewind: BoW shape = (838, 1532)\n",
      "myfirstdaywiththeyankees: BoW shape = (2786, 1532)\n",
      "mayorofthefreaks: BoW shape = (3274, 1532)\n",
      "waitingtogo: BoW shape = (1587, 1532)\n",
      "thetiniestbouquet: BoW shape = (964, 1532)\n",
      "indianapolis: BoW shape = (1554, 1532)\n",
      "kiksuya: BoW shape = (1699, 1532)\n",
      "birthofanation: BoW shape = (1590, 1532)\n"
     ]
    }
   ],
   "source": [
    "test_word_level_bow_vectors = {}\n",
    "for name, sequence in test_data.items():\n",
    "    try:\n",
    "        words = sequence.data\n",
    "        bow_matrix = vectorizer.transform(words).toarray()  # shape = (num_words, vocab_size)\n",
    "        test_word_level_bow_vectors[name] = bow_matrix\n",
    "        print(f\"{name}: BoW shape = {bow_matrix.shape}\")\n",
    "    except Exception as e:\n",
    "        print(f\"Skipping {name} due to error: {e}\")"
   ]
  },
  {
   "cell_type": "code",
   "execution_count": 35,
   "metadata": {},
   "outputs": [],
   "source": [
    "os.chdir('../code')\n",
    "import preprocessing as prep\n",
    "\n",
    "TR_DURATION = 2\n",
    "delays = [1, 2, 3, 4]\n",
    "\n",
    "# Paths\n",
    "subject_dirs = [\n",
    "    \"/ocean/projects/mth240012p/shared/data/subject2\",\n",
    "    \"/ocean/projects/mth240012p/shared/data/subject3\"\n",
    "]"
   ]
  },
  {
   "cell_type": "code",
   "execution_count": 36,
   "metadata": {},
   "outputs": [],
   "source": [
    "train_downsampled = prep.downsample_word_vectors(train_story_names, train_word_level_bow_vectors, train_data)"
   ]
  },
  {
   "cell_type": "code",
   "execution_count": 37,
   "metadata": {},
   "outputs": [],
   "source": [
    "test_downsampled = prep.downsample_word_vectors(test_story_names, test_word_level_bow_vectors, test_data)"
   ]
  },
  {
   "cell_type": "code",
   "execution_count": 38,
   "metadata": {},
   "outputs": [],
   "source": [
    "train_trimmed = {key: value[5:-10, :] for key, value in train_downsampled.items()}\n",
    "test_trimmed = {key: value[5:-10, :] for key, value in test_downsampled.items()}"
   ]
  },
  {
   "cell_type": "code",
   "execution_count": 39,
   "metadata": {},
   "outputs": [],
   "source": [
    "import numpy as np\n",
    "\n",
    "for name in train_story_names:\n",
    "    delayed = prep.make_delayed(train_trimmed[name], delays)\n",
    "    np.savez_compressed(f\"../data/bow/train/delayed_{name}.npz\", delayed)\n",
    "\n",
    "for name in test_story_names:\n",
    "    delayed = prep.make_delayed(test_trimmed[name], delays)\n",
    "    np.savez_compressed(f\"../data/bow/test/delayed_{name}.npz\", delayed)"
   ]
  },
  {
   "cell_type": "code",
   "execution_count": 40,
   "metadata": {},
   "outputs": [],
   "source": [
    "embedding = np.load(\"../data/bow/train/delayed_sweetaspie.npz\")"
   ]
  },
  {
   "cell_type": "code",
   "execution_count": 41,
   "metadata": {},
   "outputs": [
    {
     "data": {
      "text/plain": [
       "(157, 6128)"
      ]
     },
     "execution_count": 41,
     "metadata": {},
     "output_type": "execute_result"
    }
   ],
   "source": [
    "embedding['arr_0'].shape"
   ]
  }
 ],
 "metadata": {
  "kernelspec": {
   "display_name": "base",
   "language": "python",
   "name": "python3"
  },
  "language_info": {
   "codemirror_mode": {
    "name": "ipython",
    "version": 3
   },
   "file_extension": ".py",
   "mimetype": "text/x-python",
   "name": "python",
   "nbconvert_exporter": "python",
   "pygments_lexer": "ipython3",
   "version": "3.12.3"
  }
 },
 "nbformat": 4,
 "nbformat_minor": 2
}
